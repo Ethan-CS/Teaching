{
 "cells": [
  {
   "cell_type": "markdown",
   "metadata": {},
   "source": [
    "# Cycle 4 Lab Exercises - Functions for Data Structures and Plotting\n",
    "\n",
    "### Objectives:\n",
    "\n",
    "1. To get more practice devising a data structure, and writing functions to process it\n",
    "2. To make use of a library (`matplotlib`), and practice various kinds of plotting\n",
    "\n",
    "We’ll be working with a made-up dataset containing information about the production of a fictional vegetable called a poturnip (these data are fake, but their distribution and format are the same as some real agricultural data I have worked with). On each line of the file` poturnip.csv` are four pieces of information associated with a single sale of a shipment of poturnip:\n",
    "\n",
    "```\n",
    "Price/unit,Production cost/unit,Units produced nationally in month, month,region of sale\n",
    "```\n",
    "\n",
    "### Task 0: Designing your data structure\n",
    "\n",
    "1. Look at the file` poturnip.csv`\n",
    "2. Devise your own data structure to store the information in this file, and hand-write out your plan.\n",
    "    1. Write out an example of how your data structure might store the information in the first three lines of the file\n",
    "3. Write a function to read the information in poturnip.csv and store the information in your data structure.  "
   ]
  },
  {
   "cell_type": "code",
   "execution_count": null,
   "metadata": {},
   "outputs": [],
   "source": []
  },
  {
   "cell_type": "markdown",
   "metadata": {},
   "source": [
    "### Task 1: Breaking your own code\n",
    "Now a bit of fun - try to break your file reading function!  Add a line to `poturnip.csv` that causes your reading function to throw a runtime exception.  Now, add some error-checking or an exception to your function that deals with it."
   ]
  },
  {
   "cell_type": "code",
   "execution_count": null,
   "metadata": {},
   "outputs": [],
   "source": []
  },
  {
   "cell_type": "markdown",
   "metadata": {},
   "source": [
    "### Task 2 - Writing functions to manipulate your data structure\n",
    "\n",
    "Write several functions to deal with information stored in your data structure:\n",
    "\n",
    "1. Write a function `filterByRegion(dataStruct, regionString)` that takes your data structure and a string specifying a region as parameters, and returns a new data structure containing only the information for sales from the region specified by `regionString`.\n",
    "2. Write a function `filterByMonth(dataStruct, month)` that takes your data structure and an argument specifying the month as parameters, and returns a new data structure containing only the information for sales from the month specified.\n",
    "3. Write a function` getPricesPerUnit(dataStruct)` that takes your data structure, and returns a list of the prices/unit stored in that data structure (the first column in the file).\n",
    "4. Write a function` getCostsPerUnit(dataStruct)` that takes your data structure, and returns a list of the production cost/unit stored in that data structure (the second column in the file).\n",
    "5. Write a function `calculateProfitPerUnit(dataStruct)` that takes your data structure, and returns a list of the profits for the sales (the difference between the price paid and the costs)."
   ]
  },
  {
   "cell_type": "code",
   "execution_count": null,
   "metadata": {},
   "outputs": [],
   "source": []
  },
  {
   "cell_type": "markdown",
   "metadata": {},
   "source": [
    "### Task 3 - Extracting information and plotting\n",
    "\n",
    "Use the functions you wrote as part of Task 2 and any additional bits of code you need to produce a series of plots of your data using `matplotlib`\n",
    "\n",
    "1. Produce a scatterplot of the price paid per unit vs the cost of production per unit overall.  \n",
    "2. Produce a scatterplot of the price paid per unit vs the total production in the month of sale\n",
    "3. Produce histograms of the profit/unit for each region.  "
   ]
  },
  {
   "cell_type": "code",
   "execution_count": null,
   "metadata": {},
   "outputs": [],
   "source": []
  },
  {
   "cell_type": "markdown",
   "metadata": {},
   "source": [
    "### Task 4 - Stretch Exercise\n",
    "\n",
    "We could group the months into seasons, with months 12, 1, 2 as winter, 3, 4, 5 as spring, 6, 7, 8 as summer, and 9, 10, 11 as autumn.  Write code to produce new data structures with data selected in this way, and produce box-plots for profits in each region in each season.  Can you see any difference between the seasons and regions?"
   ]
  },
  {
   "cell_type": "code",
   "execution_count": null,
   "metadata": {},
   "outputs": [],
   "source": []
  }
 ],
 "metadata": {
  "kernelspec": {
   "display_name": "Python 3",
   "language": "python",
   "name": "python3"
  },
  "language_info": {
   "codemirror_mode": {
    "name": "ipython",
    "version": 3
   },
   "file_extension": ".py",
   "mimetype": "text/x-python",
   "name": "python",
   "nbconvert_exporter": "python",
   "pygments_lexer": "ipython3",
   "version": "3.8.5"
  }
 },
 "nbformat": 4,
 "nbformat_minor": 4
}

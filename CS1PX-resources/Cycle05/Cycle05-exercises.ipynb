{
 "cells": [
  {
   "cell_type": "markdown",
   "metadata": {},
   "source": [
    "# Cycle 5 Lab Exercises: Time complexity and big-O notation\n",
    "\n",
    "### Objectives:\n",
    "\n",
    "1. Write code that can generate a plot of the runtime of code.\n",
    "2. Practice finding the time complexity in big-O notation of code\n",
    "\n",
    "You may find yourself working lots on paper for this lab - that is expected!\n",
    "\n",
    "\n",
    "### Task 0:\n",
    " Write a higher-order function `plotRuntimes` that takes as a parameter a function `func`, and a list of lists that will be inputs for `func`.  Your function `plotRuntimes` should call `func` on each of the provided inputs, and record the running time. You should collect those runtimes, and plot them using `matplotlib`, with the runtimes on the y-axis and the sizes of the lists on the x-axis.  Save or display the figure.\n",
    "\n",
    "Write your code in the `lab_code_complexity.py` file, and call the `testRuntimes` function to test it."
   ]
  },
  {
   "cell_type": "code",
   "execution_count": 1,
   "metadata": {},
   "outputs": [],
   "source": []
  },
  {
   "cell_type": "markdown",
   "metadata": {},
   "source": [
    "### Task 1 - Plotting runtimes\n",
    "\n",
    "Here you will write a few simple functions and plot their runtimes.\n",
    "\n",
    "1. Write a function that loops over the elements of a list and finds their sum. Plot its runtime - what big-O complexity do you think this looks like?\n",
    "2. Write a function that loops over the elements of a list and finds the maximum value. Plot its runtime - what big-O complexity do you think this looks like?\n",
    "3. Write a function that uses a nested loop to check, for each element of a list, if it is the only occurrence of that item in the list.  Plot its runtime - what big-O complexity do you think this looks like?\n",
    "4. Plot the runtime complexities of the provided functions `doubleTraversalFunction, traversalFunction, sillyFunction, functionAhoy` and `functionFoo`.  What do you think their runtime complexity is?\n",
    "\n",
    "It can be hard to tell from the plots sometimes! We will now look at the code directly."
   ]
  },
  {
   "cell_type": "code",
   "execution_count": 2,
   "metadata": {},
   "outputs": [],
   "source": []
  },
  {
   "cell_type": "markdown",
   "metadata": {},
   "source": [
    "### Task 2 - reasoning about runtimes\n",
    "\n",
    "1. For each of the functions you plotted runtimes for, inspect the code and try to reason about the big-O runtime complexity of that code. \n",
    "2. What is the big-O complexity of running `traversalFunction` and then `sillyFunction`?\n",
    "3. What is the big-O complexity of running `functionAhoy` and then `functionFoo`?\n",
    "4. What is the big-O complexity of the following function:\n",
    "\n",
    "\n",
    "```\n",
    "def practiceFunction(myList):\n",
    "   for i in range(len(myList)):\n",
    "     traversalFunction(myList)\n",
    "```"
   ]
  },
  {
   "cell_type": "code",
   "execution_count": null,
   "metadata": {},
   "outputs": [],
   "source": []
  },
  {
   "cell_type": "markdown",
   "metadata": {},
   "source": [
    "### Task 3 - **Stretch Task**\n",
    "\n",
    "Try to write functions with the following time complexities:\n",
    "\n",
    "*   O(n<sup>5</sup>)\n",
    "*   O(n!)\n",
    "*   O(n log(n))\n",
    "\n",
    "Once you have written them, plot their runtimes with increasing input size to see if the plots agree with your expectations"
   ]
  },
  {
   "cell_type": "code",
   "execution_count": null,
   "metadata": {},
   "outputs": [],
   "source": []
  }
 ],
 "metadata": {
  "kernelspec": {
   "display_name": "Python 3",
   "language": "python",
   "name": "python3"
  },
  "language_info": {
   "codemirror_mode": {
    "name": "ipython",
    "version": 3
   },
   "file_extension": ".py",
   "mimetype": "text/x-python",
   "name": "python",
   "nbconvert_exporter": "python",
   "pygments_lexer": "ipython3",
   "version": "3.8.5"
  }
 },
 "nbformat": 4,
 "nbformat_minor": 4
}

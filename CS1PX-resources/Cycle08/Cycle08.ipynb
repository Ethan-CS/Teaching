{
 "cells": [
  {
   "cell_type": "markdown",
   "metadata": {},
   "source": [
    "# Cycle 8 - Lab Exercises\n",
    "\n",
    "## Sorting with a data in a custom structure\n",
    "\n",
    "This week we’ll be working on a modified version of an exam question from last year.  \n",
    "\n",
    "The game of poker is played with a standard 52 card deck. This is a collection of 52 playing cards which has: \n",
    "* four suits: hearts ♥, diamonds ♦, clubs ♣ and spades ♠ \n",
    "* thirteen face values: 2,3,4,5,6,7,8,9,10,J (Jack), Q (Queen), K (King), (A) Ace \n",
    "Every combination of suit and face value is present as a distinct card. For example, 2 of Spades (2♠) is valid card, as is Jack of Hearts (J♥) or Ace of Spades (A♠).  \n",
    "A hand of cards is an ordered collection of cards that is held by one player; for example the five cards 3♠ J♥ J♠ A♦ 7♦ (read Three of Spades, Jack of Hearts, Jack of Spades, Ace of Diamonds, Seven of Diamonds). \n",
    "\n",
    "\n",
    "### Task 1:\n",
    "Describe in words a data structure to represent a single card, and then using this structure, describe a data structure to represent a hand of cards. Write down a concrete example of the data structure in Python syntax for the three card hand: 2♥ 2♠ K♣ "
   ]
  },
  {
   "cell_type": "code",
   "execution_count": 1,
   "metadata": {},
   "outputs": [],
   "source": [
    "# I chose to use tuples for my individual cards, and a list for my hand of \n",
    "# cards.  I use integers for the number and face values, and strings -\n",
    "# 'D', 'H', 'S', 'C' for the suits\n",
    "\n",
    "# (face_value, suit)\n",
    "# e.g [(2, \"H\"), (2, \"D\"), (13, \"S\")]"
   ]
  },
  {
   "cell_type": "markdown",
   "metadata": {},
   "source": [
    "### Task 2: \n",
    "Write a function `greaterThan(card1, card2)` that takes two cards as input, and returns True if card1 is greater than card 2 by the following rules, False otherwise:\n",
    "\n",
    "\n",
    "The rules for the ranking of an individual card are as follows: \n",
    "* Cards are ranked first by face value: \n",
    "* 2 < 3 < 4 < 5 <6 < 7 < 8 < 9 < 10 < Jack < Queen < King < Ace \n",
    "* Cards which are tied for the same face value are ranked according to suits:  \n",
    "* ♦ Diamonds < ♣ Clubs < ♥ Hearts < ♠ Spades \n",
    "For example: 4♦ < 4♥ < 8♥ < A♥"
   ]
  },
  {
   "cell_type": "code",
   "execution_count": 2,
   "metadata": {},
   "outputs": [
    {
     "name": "stdout",
     "output_type": "stream",
     "text": [
      "True\n",
      "False\n",
      "True\n"
     ]
    }
   ],
   "source": [
    "def greater_than(card1, card2):\n",
    "  (val1, suit1) = card1\n",
    "  (val2, suit2) = card2\n",
    "  if val1 > val2:\n",
    "    return True\n",
    "  elif val1 < val2:\n",
    "    return False\n",
    "  else:\n",
    "    # then val1 == val2\n",
    "    if suit1 == \"S\" and suit2 in [\"H\", \"C\", \"D\"]:\n",
    "      return True\n",
    "    elif suit1 == \"H\" and suit2 in [\"C\", \"D\"]:\n",
    "      return True\n",
    "    elif suit1 == \"C\" and suit2 == \"D\":\n",
    "      return True\n",
    "    else:\n",
    "      return False\n",
    "\n",
    "print(greater_than((3, \"H\"), (2, \"H\")))\n",
    "print(greater_than((2, \"D\"), (2, \"H\")))\n",
    "print(greater_than((2, \"H\"), (2, \"D\")))"
   ]
  },
  {
   "cell_type": "markdown",
   "metadata": {},
   "source": [
    "### Task 3: \n",
    "Using your `greaterThan` function, implement a sorting algorithm of your choice that can take a list of cards and sort it in ranked order.  \n",
    "\n",
    "\n",
    "For example, given the input representing the hand 2♥ Q♠ 6♣ 4♦ Q♣ the sequence should be returned in the order 2♥ 4♦ 6♣ Q♣ Q♠. "
   ]
  },
  {
   "cell_type": "code",
   "execution_count": 5,
   "metadata": {},
   "outputs": [
    {
     "name": "stdout",
     "output_type": "stream",
     "text": [
      "[(2, 'H'), (4, 'D'), (6, 'C'), (12, 'C'), (12, 'S')]\n"
     ]
    }
   ],
   "source": [
    "def greater_than(card1, card2):\n",
    "  (val1, suit1) = card1\n",
    "  (val2, suit2) = card2\n",
    "  if val1 > val2:\n",
    "    return True\n",
    "  elif val1 < val2:\n",
    "    return False\n",
    "  else:\n",
    "    # then val1 == val2\n",
    "    if suit1 == \"S\" and suit2 in [\"H\", \"C\", \"D\"]:\n",
    "      return True\n",
    "    elif suit1 == \"H\" and suit2 in [\"C\", \"D\"]:\n",
    "      return True\n",
    "    elif suit1 == \"C\" and suit2 == \"D\":\n",
    "      return True\n",
    "    else:\n",
    "      return False\n",
    "\n",
    "\n",
    "def swap(my_list, i, j):\n",
    "    tmp = my_list[i]\n",
    "    my_list[i] = my_list[j]\n",
    "    my_list[j] = tmp\n",
    "    \n",
    "    \n",
    "def find_minimum_after_card(my_list, after_ind):\n",
    "    min_so_far = after_ind\n",
    "    for i in range(after_ind, len(my_list)):\n",
    "        if not greater_than(my_list[i], my_list[min_so_far]):\n",
    "            min_so_far = i\n",
    "    return min_so_far\n",
    "\n",
    "def sort_list_of_cards(my_hand):\n",
    "    for i in range(len(my_hand)):\n",
    "        smallest = find_minimum_after_card(my_hand, i)\n",
    "        swap(my_hand, smallest, i)\n",
    "\n",
    "sample_hand = [(2, 'H'), (12, \"S\"), (6, \"C\"), (4, \"D\"), (12, \"C\")]\n",
    "sort_list_of_cards(sample_hand)\n",
    "print(sample_hand)"
   ]
  },
  {
   "cell_type": "markdown",
   "metadata": {},
   "source": [
    "### Task 4:\n",
    "In poker, when scoring the value of a hand, multiple cards must be taken into account. For example, a pair of cards with the same face value is worth more than a pair of unmatched cards with differing face values. To start implementing such rules, three functions need to be implemented: \n",
    " \n",
    "* `is_consecutive(a, b)` must return True if a and b have consecutive face values regardless of face value and False otherwise (e.g. 2♦,3♦ is consecutive, as is J♣,Q♦ but not A♦,2♦ or 7♦,9♣ or 3♣,2♣)  \n",
    "\n",
    "* `is_matching_face(a,b)` must return True if a and b have the same face values but differing suits and False otherwise  \n",
    "\n",
    "* `is_matching_suit(a,b)` must return True if a and b have the same suits and False otherwise \n",
    " \n",
    "Define these three functions in Python. "
   ]
  },
  {
   "cell_type": "code",
   "execution_count": 6,
   "metadata": {},
   "outputs": [],
   "source": [
    "def is_consecutive(a,b):         \n",
    "        return a[0] + 1 == b[0] \n",
    "\n",
    "def is_matching_face(a,b): \n",
    "        return a[0] == b[0] \n",
    " \n",
    "def is_matching_suit(a,b): \n",
    "        return a[1] == b[1] "
   ]
  },
  {
   "cell_type": "markdown",
   "metadata": {},
   "source": [
    "### Task 5 - Stretch Task:\n",
    "Write a function `input_hand(n)` that will take a number n, and request that number of cards from the user as text input. It should return the corresponding hand using the datastructure you described in (a). \n",
    "The user input will be of the form of one line per card: \n",
    "facevalue suit \n",
    "Your function must work where facevalue can be a word like five or King, as well as accepting a single a number/letter like A or 8. Your function must accept a suit that is a full word like hearts as well as a single letter like h or H. \n",
    "Each word will be separated with a space. The input must be case insensitive. For example input_hand(3) should read the following input correctly: \n",
    "        five diamonds \n",
    "        ACE S \n",
    "        5 CLuBs \n",
    "and return the representation of the hand 5♦ A♠ 5♣  \n",
    "\n",
    "\n",
    "You  should deal with malformed input using an exception.\n",
    "You may use the following dictionary:\n",
    "        `number_words = {\"one\":1, \"two\":2, \"three\":3, \"four\":4,  \n",
    "        \"five\":5, \"six\":6, \"seven\":7, \"eight\":8, \"nine\":9, \"ten\":10} `"
   ]
  },
  {
   "cell_type": "code",
   "execution_count": 8,
   "metadata": {},
   "outputs": [],
   "source": [
    "number_words = {\"one\":1, \"two\":2, \"three\":3, \"four\":4,  \n",
    "                \"five\":5, \"six\":6, \"seven\":7, \"eight\":8, \"nine\":9, \"ten\":10}\n",
    "\n",
    "\n",
    "def input_hand(n): \n",
    "    face_cards = {\"j\":11, \"q\":12, \"k\":13, \"a\":14} \n",
    "    hand = [] \n",
    "    for i in range(n): \n",
    "        # get the input \n",
    "        card = input().split() \n",
    "        # get first and last words \n",
    "        number = card[0].lower() \n",
    "        suit = card[1].lower()[0] \n",
    "        # check if digit or number_word or name \n",
    "\n",
    "        try: \n",
    "            parsed_number = int(number) \n",
    "\n",
    "        except ValueError: \n",
    "            if number in number_words: \n",
    "                parsed_number = number_words[number] \n",
    "            else: \n",
    "                parsed_number = face_cards[number[0]] \n",
    "        hand.append((parsed_number, suit)) \n",
    "    return hand "
   ]
  },
  {
   "cell_type": "code",
   "execution_count": null,
   "metadata": {},
   "outputs": [],
   "source": []
  }
 ],
 "metadata": {
  "kernelspec": {
   "display_name": "Python 3",
   "language": "python",
   "name": "python3"
  },
  "language_info": {
   "codemirror_mode": {
    "name": "ipython",
    "version": 3
   },
   "file_extension": ".py",
   "mimetype": "text/x-python",
   "name": "python",
   "nbconvert_exporter": "python",
   "pygments_lexer": "ipython3",
   "version": "3.8.5"
  }
 },
 "nbformat": 4,
 "nbformat_minor": 4
}

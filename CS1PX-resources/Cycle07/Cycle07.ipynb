{
 "cells": [
  {
   "cell_type": "markdown",
   "metadata": {},
   "source": [
    "# Cycle 7 Lab Exercises - Sorting\n",
    "\n",
    "\n",
    "This week, you will practice tracing BubbleSort, implement an iterative version of selection sort, and then implement a sorting algorithm you probably have not seen before.\n",
    "\n",
    "\n",
    "### Task 1 - Understanding BubbleSort: \n",
    "Look back at the BubbleSort algorithm we looked at in class, and trace its execution when called with:\n",
    "bubbleSort([2, 1, 3, 5, 1, 7])\n",
    "Show each step.  How many comparisons does it perform?  Add a line to bubbleSort to count how many swaps it performs, and then try it out on a variety of lists.  What is worst - a sorted list, a random list, or a reverse-sorted list?"
   ]
  },
  {
   "cell_type": "code",
   "execution_count": 1,
   "metadata": {},
   "outputs": [
    {
     "name": "stdout",
     "output_type": "stream",
     "text": [
      "I did 4 swaps\n",
      "[1, 1, 2, 3, 5, 7]\n"
     ]
    }
   ],
   "source": [
    "def bubble_sort(my_array):\n",
    "    counter = 0\n",
    "    for i in range(len(my_array) - 1):\n",
    "        # at each round, we compare the current j with the next value\n",
    "        for j in range(len(my_array) - 1 - i):\n",
    "            # only swap their positions if left value > right value as we aim to move all the small values to the back\n",
    "            if my_array[j] > my_array[j + 1]:\n",
    "                my_array[j], my_array[j + 1] = my_array[j + 1], my_array[j]\n",
    "                counter = counter + 1\n",
    "    print(\"I did \" + str(counter) + \" swaps\")\n",
    "\n",
    "\n",
    "array = [2, 1, 3, 5, 1, 7]\n",
    "bubble_sort(array)\n",
    "print(array)"
   ]
  },
  {
   "cell_type": "markdown",
   "metadata": {},
   "source": [
    "### Task 2 - Implementing Iterative SelectionSort:\n",
    "We talked briefly about a recursive SelectionSort algorithm in lecture.  I would like you to implement an iterative version of SelectionSort.  Feel free to look at the recursive version we went over, but try to avoid looking up an iterative version and copying it.  It may help you to write out the steps that Selection Sort should take in its execution and then try to transfer those to code.  "
   ]
  },
  {
   "cell_type": "code",
   "execution_count": 3,
   "metadata": {},
   "outputs": [
    {
     "name": "stdout",
     "output_type": "stream",
     "text": [
      "[1, 2, 3, 4, 5]\n"
     ]
    }
   ],
   "source": [
    "def swap(my_list, i, j):\n",
    "    tmp = my_list[i]\n",
    "    my_list[i] = my_list[j]\n",
    "    my_list[j] = tmp\n",
    "\n",
    "\n",
    "def find_min_after(my_list, j):\n",
    "    if j < 0 or j >= len(my_list):\n",
    "        return None\n",
    "    min_so_far = j\n",
    "    for i in range(j + 1, len(my_list)):\n",
    "        if my_list[i] < my_list[min_so_far]:\n",
    "            min_so_far = i\n",
    "    return min_so_far\n",
    "\n",
    "\n",
    "def iterative_selection_sort(my_list):\n",
    "    for i in range(len(my_list)):\n",
    "        next_smallest = find_min_after(my_list, i)\n",
    "        swap(my_list, i, next_smallest)\n",
    "\n",
    "\n",
    "array = [2, 1, 5, 4, 3]\n",
    "iterative_selection_sort(array)\n",
    "print(array)"
   ]
  },
  {
   "cell_type": "markdown",
   "metadata": {},
   "source": [
    "### Task 3 - Implementing a new sorting algorithm - the odd-even sort\n",
    "The odd-even sort algorithm is based on repeatedly making two passes on a list: \n",
    "1.  The first pass examines pairs of items a[j], a[j+1] where j is odd. 2. \n",
    "2.  The second pass examines pairs of items a[i], a[i+1] where i is even. 3. \n",
    "3.  In each pass, the following occurs: if the contents of the pair being examined are unordered, then the elements are swapped.\n",
    "4.  Repeat passes until the list is sorted. \n",
    "\n",
    "\n",
    "Consider the following list: [1,7,5,2,6] \n",
    "First pass \n",
    "* Start with odd position \n",
    "   * Examine a[1] and a[2], compare contents of this pair (7 and 5): swap elements. Resulting list: [1,5,7,2,6] \n",
    "   * Examine a[3] and a[4], compare contents of this pair (2 and 6): do not swap elements. \n",
    "* Start with even position \n",
    "   * Examine a[0] and a[1], compare contents of this pair (1 and 5): do not swap elements. \n",
    "   * Examine a[2] and a[3], compare contents of this pair (7 and 2): swap elements. Resulting list: [1,5,2,7,6] \n",
    "Repeat until list is sorted. "
   ]
  },
  {
   "cell_type": "code",
   "execution_count": 11,
   "metadata": {},
   "outputs": [
    {
     "name": "stdout",
     "output_type": "stream",
     "text": [
      "[1, 2, 3, 4, 5, 6, 7, 8, 9]\n",
      "[1, 2, 3, 5, 8, 10, 11]\n",
      "[1, 2, 3, 5, 8, 10]\n",
      "[5, 6, 7, 8, 9, 10]\n"
     ]
    }
   ],
   "source": [
    "def odd_even_sort(my_list):\n",
    "    for k in range(len(my_list) // 2 + len(my_list) % 2):\n",
    "        # Odd loop      \n",
    "        for j in range(1, len(my_list) - 1, 2):\n",
    "            if my_list[j] > my_list[j + 1]:\n",
    "                my_list[j], my_list[j + 1] = my_list[j + 1], my_list[j]\n",
    "        # Even loop   \n",
    "        for i in range(0, len(my_list) - 1, 2):\n",
    "            if my_list[i] > my_list[i + 1]:\n",
    "                my_list[i], my_list[i + 1] = my_list[i + 1], my_list[i]\n",
    "    return my_list\n",
    "\n",
    "\n",
    "my_list_1 = [2, 6, 8, 1, 7, 9, 4, 3, 5]\n",
    "my_list_2 = [10, 11, 3, 2, 5, 8, 1]\n",
    "my_list_3 = [10, 3, 2, 5, 8, 1]\n",
    "my_list_4 = [10, 9, 8, 7, 6, 5]\n",
    "\n",
    "print(odd_even_sort(my_list_1))\n",
    "print(odd_even_sort(my_list_2))\n",
    "print(odd_even_sort(my_list_3))\n",
    "print(odd_even_sort(my_list_4))"
   ]
  },
  {
   "cell_type": "code",
   "execution_count": null,
   "metadata": {},
   "outputs": [],
   "source": []
  }
 ],
 "metadata": {
  "kernelspec": {
   "display_name": "Python 3",
   "language": "python",
   "name": "python3"
  },
  "language_info": {
   "codemirror_mode": {
    "name": "ipython",
    "version": 3
   },
   "file_extension": ".py",
   "mimetype": "text/x-python",
   "name": "python",
   "nbconvert_exporter": "python",
   "pygments_lexer": "ipython3",
   "version": "3.8.5"
  }
 },
 "nbformat": 4,
 "nbformat_minor": 4
}

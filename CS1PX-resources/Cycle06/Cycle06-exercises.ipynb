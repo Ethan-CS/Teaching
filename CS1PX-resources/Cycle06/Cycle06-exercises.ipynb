{
 "cells": [
  {
   "cell_type": "markdown",
   "metadata": {},
   "source": [
    "# Cycle 6 CS1PX Lab - Searching\n",
    "\n",
    "\n",
    "This week you will work with the algorithms the searching algorithms we discussed in lecture.  I want you to write some new code, as well as to try to produce code that we worked on in class.  I will also ask you to try to identify bugs in a binary search implementation.  It may help to trace the operation of the code by hand, to see where it goes wrong.  \n",
    "\n",
    "\n",
    "### Task 1 - Counting comparisons in linear search\n",
    "1. Implement a simple linear search that takes a list and a value, and returns the index of the value if it is present in the list.  \n",
    "2. Now, add a counter to your function that counts how many items in the list are compared to your target item.\n",
    "3. Generate a 100-item list containing the number 0 to 99.  Then generate 100 shuffles of this list (you may with to use the random.shuffle function within the random library - look up what it does and try it out.), and use your code from (b) to count how many comparisons are used to find the item 42 in each of your shuffled lists.  What is the mean of these numbers? Is it as you expect?"
   ]
  },
  {
   "cell_type": "code",
   "execution_count": null,
   "metadata": {},
   "outputs": [],
   "source": []
  },
  {
   "cell_type": "markdown",
   "metadata": {},
   "source": [
    "### Task 2 - Finding bugs in binary search\n",
    "In the file `lab_code_search.py` there are three copies of iterative binary search, each of which has a bug.  Trace each of these pieces of code, identify the bug, and fix it.  You will learn more from this exercise if you don’t look at a correct copy of binary search while doing it, and don’t compare across buggy versions until you are done.  I suggest you work on them one at a time.  You should be able to give an input to each piece of buggy code that shows the problem when you trace the operation on that input."
   ]
  },
  {
   "cell_type": "code",
   "execution_count": null,
   "metadata": {},
   "outputs": [],
   "source": []
  },
  {
   "cell_type": "markdown",
   "metadata": {},
   "source": [
    "### Task 3 - Implementing a recursive binary search\n",
    "Using your debugged version of an iterative binary search, try to produce a recursive version of binary search. You will learn more from this exercise if you don’t look at a copy of recursive binary search while doing it.  If you feel stuck, remember how we approached recursive functions in cycle 2 - what are the base cases?  What are the recursive cases? "
   ]
  },
  {
   "cell_type": "code",
   "execution_count": null,
   "metadata": {},
   "outputs": [],
   "source": []
  },
  {
   "cell_type": "markdown",
   "metadata": {},
   "source": [
    "### Task 4 - stretch tasks hints\n",
    "\n",
    "For 4.1, have a look at adapting last cycle's solutions.\n",
    "\n",
    "For 4.2: think about what you want to look for in this adapted binary search.\n",
    "\n",
    "In vanilla binary search, I'm looking to see if the mid value is the same as the value I'm looking it, but for this new version, I want to see if it has a number *below* it to the left, and one *below* it to the right. Think also about the signal that I am too hi vs too lo in the list - it will have to do with whether the numbers are increasing or decreasing."
   ]
  },
  {
   "cell_type": "code",
   "execution_count": null,
   "metadata": {},
   "outputs": [],
   "source": []
  }
 ],
 "metadata": {
  "kernelspec": {
   "display_name": "Python 3",
   "language": "python",
   "name": "python3"
  },
  "language_info": {
   "codemirror_mode": {
    "name": "ipython",
    "version": 3
   },
   "file_extension": ".py",
   "mimetype": "text/x-python",
   "name": "python",
   "nbconvert_exporter": "python",
   "pygments_lexer": "ipython3",
   "version": "3.8.5"
  }
 },
 "nbformat": 4,
 "nbformat_minor": 4
}

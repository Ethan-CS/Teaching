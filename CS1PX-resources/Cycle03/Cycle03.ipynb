{
 "cells": [
  {
   "cell_type": "markdown",
   "metadata": {},
   "source": [
    "# Cycle 3 Exercises - Reading from Files, Errors and Exceptions\n",
    "\n",
    "## Aims and Objectives\n",
    "* Practice reading data from files\n",
    "* Practice checking for malformed input and throwing/catching exceptions\n",
    "\n",
    "## This week’s exercises \n",
    "This week you’ll be building the biggest piece of code we’ve worked on yet - a birthday book that reads information from a file, and, if you have time to work on the last task, lets us retrieve information from the command line.  You will probably want to use IDLE or another python interpreter to work on the tasks this week.  \n",
    "\n",
    "\n",
    "Resources: Chapters 13 and 19 of How to Think Like a Computing Scientist contain information on files and exceptions, and you working on file reading in CS1CT.\n"
   ]
  },
  {
   "cell_type": "markdown",
   "metadata": {},
   "source": [
    "### Task 1 - Data structure and processing\n",
    "The idea of this exercise is to store people’s birthdays and produce reminders of birthdays that are coming up. \n",
    "\n",
    "\n",
    "A birthday consists of a month and a date, which can be represented by a dictionary such as\n",
    "{ \"month\":\"Sep\", \"day\":17 }\n",
    "\n",
    "\n",
    "The birthday book is a dictionary in which the keys are people’s names, and the values are birthdays, with each birthday represented as a dictionary as above. \n",
    "\n",
    "\n",
    "I want you to define a number of functions for dealing with a birthday book. Write all of this code in a file that is called birthday.py\n",
    "\n",
    "\n",
    "1. Set up a hard-coded sample birthday book dictionary so that you can test out the functions you will write.  Here is a sample of a dictionary that has only my birthday in it: `birthdayBook = {\"Jess\" : {\"month\": \"Dec\", \"day\": 10}}`. Create your own, or add more to this one. "
   ]
  },
  {
   "cell_type": "code",
   "execution_count": 7,
   "metadata": {},
   "outputs": [],
   "source": [
    "birthdayBook = {\"Jess\": {\"month\": \"December\", \"day\": 10},\n",
    "                \"Ethan\": {\"month\": \"April\", \"day\": 29},\n",
    "                \"Stefani Joanne Angelina Germanotta\": {\"month\": \"March\", \"day\": 28}\n",
    "                }"
   ]
  },
  {
   "cell_type": "markdown",
   "metadata": {},
   "source": [
    "2. Define a function which, given a person’s name, prints his or her birthday. You function should take both the birthday book and the name as arguments.  "
   ]
  },
  {
   "cell_type": "code",
   "execution_count": 10,
   "metadata": {},
   "outputs": [
    {
     "name": "stdout",
     "output_type": "stream",
     "text": [
      "Ethan's birthday is April 29.\n"
     ]
    }
   ],
   "source": [
    "def get_birthday(choice, dates):\n",
    "    if choice in birthdayBook.keys():\n",
    "        print(\"{}'s birthday is {} {}.\".format(choice, birthdayBook[choice][\"month\"], birthdayBook[choice][\"day\"]))\n",
    "    else:\n",
    "        print(\"Unfortunately, we don't know {}'s birthday.\".format(choice))\n",
    "        \n",
    "\n",
    "birthdayBook = {\"Jess\": {\"month\": \"December\", \"day\": 10},\n",
    "                \"Ethan\": {\"month\": \"April\", \"day\": 29},\n",
    "                \"Stefani Joanne Angelina Germanotta\": {\"month\": \"March\", \"day\": 28}\n",
    "                }\n",
    "        \n",
    "get_birthday(\"Ethan\", birthdayBook)"
   ]
  },
  {
   "cell_type": "raw",
   "metadata": {},
   "source": [
    "3. Define a function which, given a month, prints a list of all the people who have birthdays in that month, with the dates."
   ]
  },
  {
   "cell_type": "code",
   "execution_count": 11,
   "metadata": {},
   "outputs": [
    {
     "name": "stdout",
     "output_type": "stream",
     "text": [
      "Jess's birthday is December 10.\n",
      "Ethan's birthday is April 29.\n",
      "Stefani Joanne Angelina Germanotta's birthday is March 28.\n"
     ]
    }
   ],
   "source": [
    "def get_all_birthdays(birthdayBook):\n",
    "    for x in birthdayBook.keys():\n",
    "        get_birthday(x, birthdayBook)\n",
    "        \n",
    "        \n",
    "birthdayBook = {\"Jess\": {\"month\": \"December\", \"day\": 10},\n",
    "                \"Ethan\": {\"month\": \"April\", \"day\": 29},\n",
    "                \"Stefani Joanne Angelina Germanotta\": {\"month\": \"March\", \"day\": 28}\n",
    "                }\n",
    "\n",
    "get_all_birthdays(birthdayBook)"
   ]
  },
  {
   "cell_type": "markdown",
   "metadata": {},
   "source": [
    "### Task 2 -  Reading information from a file\n",
    "\n",
    "\n",
    "Now we are going to read information about the birthdays from a file. **We will add error-checking later.**\n",
    "\n",
    "\n",
    "The  aim of this task is to define a function: getBirthdays which takes a filename as a parameter and reads birthdays from the file, storing them in a dictionary which should also be a parameter of the function. The first line of the function definition should therefore be\n",
    "\n",
    "\n",
    "`def getBirthdays(fileName,book):`\n",
    "\n",
    "\n",
    "The file should contain a number of lines with one birthday per line, in the following format:\n",
    "\n",
    "\n",
    "```\n",
    "John,Mar,23\n",
    "Susan,Feb,16\n",
    "```\n",
    "\n",
    "\n",
    "and so on. \n",
    "The file `birthdays.txt` (on Moodle) contains some data that you can use for testing; you can also create your own files using the normal Python editor.  For this task, don't worry *yet* about handling errors: assume that the file exists, that it has the correct format, that every line gives a valid date, etc. \n",
    "\n",
    "\n",
    "The following points might be useful:-\n",
    "* remember to open the file and then call methods to read data\n",
    "* the easiest way to read data from this file is to use the readline function, but note that it gives you a string with a newline character at the end, so you will need to discard extra whitespace. You may want to look up the strip() function\n",
    "* remember the `split()` function from the string module: the call `line.split(\",\")` will be useful. It converts a string into a list \n",
    "* Test your function (how should you do this?)\n",
    "\n",
    "\n",
    "Once you have written this code to read in a file, read in the birthdays from file and try out your functions from Task 1. "
   ]
  },
  {
   "cell_type": "code",
   "execution_count": 12,
   "metadata": {},
   "outputs": [],
   "source": [
    "def get_birthdays(filename, book):\n",
    "    with open(filename, 'r') as file:\n",
    "        for line in file:\n",
    "            line = line.strip('\\n')\n",
    "            key, month, day = line.split(',')\n",
    "            book[key] = month, day\n",
    "    print(book)"
   ]
  },
  {
   "cell_type": "markdown",
   "metadata": {},
   "source": [
    "### Task 3 -  Handling errors\n",
    "Now we will try to make our code more robust, and deal with malformed input files.  \n",
    "\n",
    "\n",
    "In lecture we talked about both exceptions and more hand-written error checks using if statements.  Be sure to try out both in this task.  \n",
    "\n",
    "\n",
    "There are many things that could go wrong in this program!  The filename might be for a file that does not exist.  The lines in a file might be missing commas, the functions you write as part of Task 1 might be given faulty input (months that don’t exist, etc).\n",
    "\n",
    "\n",
    "Modify the birthday book program so that as many errors as you can think of are detected. In some cases, for example, trying to open a non-existent file, you should handle the exception raised by the built-in Python function. In other cases, you might like to process other built-in exceptions or do input checks using if statements (for example, to check for valid months, or valid dates).  Advanced option: you might even like to raise and handle your own exceptions."
   ]
  },
  {
   "cell_type": "code",
   "execution_count": null,
   "metadata": {},
   "outputs": [
    {
     "name": "stdout",
     "output_type": "stream",
     "text": [
      "I already know the following birthdays:\n",
      "  • Ethan Kelly\n",
      "  • Jess Enright\n",
      "  • Stefani Joanne Angelina Germanotta\n",
      "  • Ariana Grande\n",
      "  • Alan Turing\n",
      "  • Tim Berners-Lee\n",
      "  • Grace Hopper\n",
      "  • Ada Lovelace\n",
      "\n"
     ]
    }
   ],
   "source": [
    "## NB I haven't dealt with many exceptions here, just some examples!\n",
    "def get_birthdays(filename, book):\n",
    "    with open(filename, 'r') as file:\n",
    "        for line in file:\n",
    "            line = line.strip('\\n') # Get rid of whitespace\n",
    "            key, month, day = line.split(',') # Separate name, month and day \n",
    "            book[key] = month, day # Save to the dictionary\n",
    "\n",
    "    if book == {}: # I.e. file was empty\n",
    "        print(\"Sorry, I couldn't find any birthday records!\")\n",
    "    file.close()\n",
    "    return book\n",
    "\n",
    "\n",
    "def write_birthday(filename, name, month, day):\n",
    "    with open(filename, 'a') as file:\n",
    "        file.write(\"{},{},{}\\n\".format(name, month, day))\n",
    "        file.close()\n",
    "\n",
    "\n",
    "def main():\n",
    "    book = {}\n",
    "    file = \"birthday_records.txt\"\n",
    "    book = get_birthdays(file, book)\n",
    "\n",
    "    if book == {}:\n",
    "        print(\"I don't have any birthday records.\")\n",
    "    else:\n",
    "        print(\"I already know the following birthdays:\")\n",
    "        for i in book:\n",
    "            print(\"  •\", i)\n",
    "        print()\n",
    "        while True:\n",
    "            key = input(\"Enter a name to look up that person's birthdate (or q to quit):\\n\")\n",
    "            if key == \"q\":\n",
    "                break\n",
    "            try:\n",
    "                print('{}\\'s birthday is {} {}.'.format(key, book[key][0], book[key][1]))\n",
    "            except KeyError:\n",
    "                print('Sorry, I don\\'t have {}\\'s birthday.'.format(key))\n",
    "                answer = input('Would you like to tell me {}\\'s birthday? (y/n)'.format(key))\n",
    "                if answer.lower() == 'y':\n",
    "                    date = input(\"Great! Please enter their birthdate, in the form \\'Jan,1\\'\")\n",
    "                    month, day = date.split(\",\")\n",
    "                    write_birthday(file, key, month, day)\n",
    "                    print(\"Got it, thanks! {}\\'s birthday has now been added.\".format(key))\n",
    "                    book = get_birthdays(file, book)\n",
    "                    continue\n",
    "                else:\n",
    "                    print(\"No problem!\")\n",
    "                    continue\n",
    "\n",
    "\n",
    "if __name__ == \"__main__\":\n",
    "    main()\n"
   ]
  },
  {
   "cell_type": "markdown",
   "metadata": {},
   "source": [
    "### *Extra Challenge if you have time*: Task 4 - A command-line menu\n",
    "The task now is to combine the functions you have implemented so far into a complete application that takes user input from the command line.\n",
    "\n",
    "\n",
    "Write a program which repeatedly asks the user to enter a command, asks for further details if necessary, and carries out the corresponding operation. For example, one command could be \"read\";  in this case the program should ask the user to enter a filename, and then read birthdays from that file into the birthday book. There should be a textual menu with a command for each of the operations from Task 1 and 2, as well as a command \"quit\" which terminates the program.  \n",
    "\n",
    "\n",
    "You might use a while loop to repeatedly ask for input so long as the input is not ‘quit’."
   ]
  },
  {
   "cell_type": "code",
   "execution_count": null,
   "metadata": {},
   "outputs": [],
   "source": [
    "# See previous solution..."
   ]
  }
 ],
 "metadata": {
  "kernelspec": {
   "display_name": "Python 3",
   "language": "python",
   "name": "python3"
  },
  "language_info": {
   "codemirror_mode": {
    "name": "ipython",
    "version": 3
   },
   "file_extension": ".py",
   "mimetype": "text/x-python",
   "name": "python",
   "nbconvert_exporter": "python",
   "pygments_lexer": "ipython3",
   "version": "3.8.5"
  }
 },
 "nbformat": 4,
 "nbformat_minor": 4
}

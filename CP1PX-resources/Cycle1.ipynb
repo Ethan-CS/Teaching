{
 "cells": [
  {
   "cell_type": "markdown",
   "metadata": {},
   "source": [
    "# Cycle 1 Exercises – Python data structures, performing calculations and plotting\n",
    "## Aims and objectives\n",
    "* Familiarise yourself with Jupyter if you haven’t used it in the last semester\n",
    "* Refresh Python fundamentals, such as lists, tuples, dictionaries\n",
    "\n",
    "## This week’s exercises\n",
    "These exercises involve refreshing Python data structures such as lists, and dictionaries."
   ]
  },
  {
   "cell_type": "markdown",
   "metadata": {},
   "source": [
    "### Task 0 – Jupyter (for those who have not used it before)\n",
    "The Jupyter Notebook is an open-source web application that allows you to create and share documents that contain live code, equations, visualizations and narrative text. Uses include: data cleaning and transformation, numerical simulation, statistical modeling, data visualization, machine learning, and much more.\n",
    "\n",
    "To use Jupyter, please follow [this guide](https://moodle.gla.ac.uk/pluginfile.php/2538141/mod_resource/content/1/JupyterGuide2016%20%281%29.pdf) (I know it is written refering to a lab machine, please just pretend it says 'your machine'). To run Jupyter on your own machine, I suggest you install via [Anaconda](https://www.anaconda.com/) - I'll do a demo of running a notebook this way in one of our first lectures.  If you really cannot run Jupyter on your machine, it is possible to run notebooks entirely online using (for example) [Google's colab](https://colab.research.google.com) or [Cocalc](https://cocalc.com/)"
   ]
  },
  {
   "cell_type": "markdown",
   "metadata": {},
   "source": [
    "### Task 1 – Review your notes from CS1CT or the online text\n",
    "Review what you've learned about lists, dictionaries, and tuples, as well as traversing them with looks and using if/then control structures."
   ]
  },
  {
   "cell_type": "markdown",
   "metadata": {},
   "source": [
    "### Task 2 – List manipulations\n",
    "\n",
    "Write the following functions in Python. If you can, try to present multiple implementation for the same problem. \n",
    "1.\t`howManyZeroes(a)`: Write a function that counts the number of entries in list a that are equal to the number 0\n",
    "2.\t`getTheOddNumbers(a)`: Write a function that returns a list containing only the odd-number entries of a list."
   ]
  },
  {
   "cell_type": "code",
   "execution_count": 6,
   "metadata": {},
   "outputs": [
    {
     "name": "stdout",
     "output_type": "stream",
     "text": [
      "3\n",
      "[2, 4, 6, 12]\n"
     ]
    }
   ],
   "source": [
    "# SOLUTION\n",
    "# counting the zeroes naive approach\n",
    "def howManyZeroes(a):\n",
    "  countToReturn = 0\n",
    "  for guy in a:\n",
    "    if guy == 0:\n",
    "      countToReturn = countToReturn + 1\n",
    "  return countToReturn\n",
    "\n",
    "print(howManyZeroes([0, 1, 2, 4, 0, 'f', 0]))  \n",
    "\n",
    "# get the odd numbers naive approach\n",
    "def getTheOddNumbers(a):\n",
    "  newList = []\n",
    "  for guy in a:\n",
    "    if guy % 2 == 0:\n",
    "      newList.append(guy)\n",
    "  return newList\n",
    "    \n",
    "print(getTheOddNumbers([7, 1, 2, 4, 11, 6, 12]))"
   ]
  },
  {
   "cell_type": "markdown",
   "metadata": {},
   "source": [
    "### Task 3 – Tuple manipulations\n",
    "\n",
    "Write the following functions in Python. If you can, try to present multiple implementations for the same problem. \n",
    "1.\t`pairTogether(list1, list2)`:  Write a function that takes two lists of the same length, and returns a new list that contains 2-tuples where the ith item in the new list is a pair composed of a 2-tuple of (ith item in list1, ith item in list2).\n",
    "\n",
    "```\n",
    "pairTogether([‘a’, ‘b’, ‘c’, ‘d’], [1, 2, 3, 4]) \n",
    "\n",
    "output: [(a, 1), (b, 2), (c, 3), (d, 4)]  \n",
    "```"
   ]
  },
  {
   "cell_type": "code",
   "execution_count": 5,
   "metadata": {},
   "outputs": [
    {
     "name": "stdout",
     "output_type": "stream",
     "text": [
      "[('a', 1), ('b', 2), ('c', 3), ('d', 4)]\n"
     ]
    }
   ],
   "source": [
    "# SOLUTION\n",
    "def pairTogether(list1, list2):\n",
    "  newList = []\n",
    "  for i in range(len(list1)):\n",
    "    newList.append((list1[i], list2[i]))\n",
    "  return newList\n",
    "\n",
    "print(pairTogether(['a', 'b', 'c', 'd'], [1, 2, 3, 4]) )"
   ]
  },
  {
   "cell_type": "markdown",
   "metadata": {},
   "source": [
    "### Task 4 – Dictionary manipulations\n",
    "\n",
    "Write the following functions in Python. If you can, try to present multiple implementation for the same problem. \n",
    "1.\t`comparedicts(dict1, dict2`): Write a function that compares two dictionaries by both their keys and values and return a Boolean – loop through the dictionaries, do not simply directly compare the dictionaries with ==.\n",
    "\n",
    "```\n",
    "Input: {'a': 1, 'b': 2}, {'a': 1, 'b': 2}\n",
    "Output: True\t\n",
    "\n",
    "Input: {'a': 2, 'b': 2}, {'a': 1, 'b': 2}\n",
    "Output: False\n",
    "\n",
    "\n",
    "Input: {'a': 1, 'b': 3}, {'a': 1, 'b': 2}\n",
    "Output: False\n",
    "```\n",
    "\n",
    "2.\t`differences(dict1, dict2)`: Write a function that displays the differences between two dictionaries by returning a list of tuples.   You can assume that the dictionaries have the same set of keys.  (Extra exercise: think about how you would deal with it if they had different sets of keys?)\n",
    "```\n",
    "Input: {'a': 1, 'b': 3}, {'a': 1, 'b': 2}\n",
    "Output: [('b', 3), ('b', 2)]\n",
    "\n",
    "Input: {'a': 1, 'b': 3}, {'a': 1, 'b': 3}\n",
    "Output: an empty list, or None\n",
    "```"
   ]
  },
  {
   "cell_type": "code",
   "execution_count": 1,
   "metadata": {},
   "outputs": [
    {
     "name": "stdout",
     "output_type": "stream",
     "text": [
      "True\n",
      "False\n",
      "[]\n",
      "[('a', 3), ('a', 1)]\n"
     ]
    }
   ],
   "source": [
    "# SOLUTION\n",
    "def comparedicts(dict1, dict2):\n",
    "  for key in dict1:\n",
    "    if dict1[key] != dict2[key]:\n",
    "      return False\n",
    "  return True\n",
    "\n",
    "print(comparedicts({'a': 1, 'b': 2}, {'a': 1, 'b': 2}))\n",
    "print(comparedicts({'a': 3, 'b': 2}, {'a': 1, 'b': 2}))\n",
    "\n",
    "def differences(dict1, dict2):\n",
    "  diffs = []\n",
    "  for key in dict1:\n",
    "    if dict1[key] != dict2[key]:\n",
    "      diffs.append((key,dict1[key]))\n",
    "      diffs.append((key,dict2[key]))\n",
    "  return diffs\n",
    "\n",
    "print(differences({'a': 1, 'b': 2}, {'a': 1, 'b': 2}))\n",
    "print(differences({'a': 3, 'b': 2}, {'a': 1, 'b': 2}))"
   ]
  },
  {
   "cell_type": "markdown",
   "metadata": {},
   "source": [
    "### Task 5 – Generate and try out some Peerwise questions \n",
    "Please do this if you can - it will help you and your classmates learn.  It's good to aim for authoring 2-3 questions per week (you are of course welcome to do more!).  If you author a really good question I may use it on this week's quiz."
   ]
  },
  {
   "cell_type": "markdown",
   "metadata": {},
   "source": [
    "### Task 5* - Organising a concert\n",
    "\n",
    "Suppose you are putting together a concert and need to figure out how much to charge for a ticket. Your total expenses are £8000 (band and venue). The venue can seat at most 2000 people and you have determined through market research that the number of tickets you are likely to sell is related to the ticket’s selling price by the following relationship:\n",
    "```\n",
    "sales = 2500 - 80 * price\n",
    "```\n",
    "According to this relationship, if you give away tickets for free, you will overfill the venue. On the other hand, if you charge too much, you won’t be able to sell tickets at all. Your total income from the ticket sales will be `sales * price` and your profit will be this amount minus your expenses which are £8000.\n",
    "\n",
    "Write a program to determine the most profitable ticket price, by creating a function that prints a table for each possible ticket price from £0 up to the maxPrice parameter that is given to this function as an argument. Name your function as `profitTable(maxPrice)`\n",
    "\n",
    "When calling `profitTable(30)` we should get a table like this:\n",
    "```\n",
    "Price   Income   Profit\n",
    "-----   ------   ------\n",
    " £1      2000    -6000\n",
    " £2      4000    -4000\n",
    "          ...\n",
    " £22     16280    8280\n",
    " £23     15180    7180\n",
    " ```"
   ]
  },
  {
   "cell_type": "code",
   "execution_count": null,
   "metadata": {},
   "outputs": [],
   "source": [
    "sales_prices = {}\n",
    "\n",
    "def maxPrice()"
   ]
  }
 ],
 "metadata": {
  "kernelspec": {
   "display_name": "Python 3",
   "language": "python",
   "name": "python3"
  },
  "language_info": {
   "codemirror_mode": {
    "name": "ipython",
    "version": 3
   },
   "file_extension": ".py",
   "mimetype": "text/x-python",
   "name": "python",
   "nbconvert_exporter": "python",
   "pygments_lexer": "ipython3",
   "version": "3.8.5"
  }
 },
 "nbformat": 4,
 "nbformat_minor": 4
}

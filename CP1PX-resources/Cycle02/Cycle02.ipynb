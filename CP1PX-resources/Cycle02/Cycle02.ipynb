{
 "cells": [
  {
   "cell_type": "markdown",
   "metadata": {},
   "source": [
    "# Cycle 2 Exercises – Recursion and higher-order functions\n",
    "## Aims and objectives\n",
    "* Practice writing recursive functions\n",
    "    * Make sure you can identify the base and recursive cases\n",
    "    * Make sure you can trace your code (tracing recursion)\n",
    "* Practice using higher-order functions\n",
    "\n",
    "## This week’s exercises\n",
    "This week may be challenging - both recursion and higher-order functions can be tricky to get your head around the first time!  Practice will help.  Task 1 is the most fundamental of the three tasks, so focus on getting those done if you are struggling for time.  \n",
    "You may find it useful to do some planning on paper before you start working on your machine."
   ]
  },
  {
   "cell_type": "markdown",
   "metadata": {},
   "source": [
    "### Task 1 - Recursive Functions\n",
    "\n",
    "In all three cases, think about your base case and recursive case, then write your code (on paper first if that helps you), and be sure you can trace your code and draw stack traces.\n",
    "\n",
    "1. Write a function `recursive_exponent(base, exp)` that takes in a base and an exp as parameters and recursively computes baseexp. You are not allowed to use the ** operator!"
   ]
  },
  {
   "cell_type": "code",
   "execution_count": 14,
   "metadata": {},
   "outputs": [
    {
     "name": "stdout",
     "output_type": "stream",
     "text": [
      "2^6 = 64\n"
     ]
    }
   ],
   "source": [
    "# 1 - Recursive function to compute exponents\n",
    "def recursive_exponent(base, exp):\n",
    "    if exp == 1:\n",
    "        return base\n",
    "\n",
    "    else:\n",
    "        return base * recursive_exponent(base, exp - 1)\n",
    "\n",
    "print(\"2^6 =\", recursive_exponent(2, 6))"
   ]
  },
  {
   "cell_type": "markdown",
   "metadata": {},
   "source": [
    "2. Write a function `recursive_countdown(n)` using recursion to print numbers from n to 0.  (Where n will be a positive integer parameter) "
   ]
  },
  {
   "cell_type": "code",
   "execution_count": 10,
   "metadata": {},
   "outputs": [
    {
     "name": "stdout",
     "output_type": "stream",
     "text": [
      "10, 9, 8, 7, 6, 5, 4, 3, 2, 1, 0\n"
     ]
    }
   ],
   "source": [
    "# 2 - Print numbers from n to 0 using recursion\n",
    "def recursive_countdown(n):\n",
    "    if n == 0:\n",
    "        print(n)\n",
    "    else:\n",
    "        print(n, end=', ')\n",
    "        recursive_countdown(n-1)\n",
    "        \n",
    "        \n",
    "recursive_countdown(10)"
   ]
  },
  {
   "cell_type": "markdown",
   "metadata": {},
   "source": [
    "3. We can determine how many digits a positive integer has by repeatedly dividing by 10 (without keeping the remainder) until the number is less than 10, consisting of only 1 digit. Write down a recursive algorithm to implement this approach, and implement it in Python. _(Hint:  If n is an integer, n//10 will be an integer without the fractional part in Python.)_"
   ]
  },
  {
   "cell_type": "code",
   "execution_count": 13,
   "metadata": {},
   "outputs": [
    {
     "data": {
      "text/plain": [
       "9"
      ]
     },
     "execution_count": 13,
     "metadata": {},
     "output_type": "execute_result"
    }
   ],
   "source": [
    "# 3 - Find the number of digits using a recursive formula\n",
    "def digits(n):\n",
    "    if n < 10:\n",
    "        return 1\n",
    "    else:\n",
    "        return 1 + digits(n/10)\n",
    "    \n",
    "    \n",
    "digits(123456789)"
   ]
  },
  {
   "cell_type": "markdown",
   "metadata": {},
   "source": [
    "### Task 2 – Higher-Order Functions  \n",
    "\n",
    "Write the following higher-order function in Python:\n",
    " \n",
    "1. `apply_fun_on_dict(a, myfun)`: Write a function that applies a function on the values of a dictionary (e.g., calculates power of each value). \n",
    " \n",
    "Let’s create this function that we would like to apply on the values of the dictionary: \n",
    "```\n",
    "def myfun(elem): \n",
    "   return elem**2 \n",
    "```\n",
    " \n",
    "Then \n",
    "```\n",
    "a = {'apple': 6, 'banana': 2, 'hello': 5, 'world': 4} \n",
    "applyfunondict(a, myfun)\n",
    "```\n",
    "\n",
    "Should give:\n",
    "`{'apple': 36, 'banana': 4, 'hello': 25, 'world': 16} `"
   ]
  },
  {
   "cell_type": "code",
   "execution_count": 12,
   "metadata": {},
   "outputs": [
    {
     "name": "stdout",
     "output_type": "stream",
     "text": [
      "{'apple': 36, 'banana': 4, 'hello': 25, 'world': 16}\n"
     ]
    }
   ],
   "source": [
    "def apply_fun_on_dict(a, my_fun):\n",
    "    return {k: my_fun(v) for k, v in a.items()}\n",
    "\n",
    "\n",
    "def fn(n):\n",
    "    return n**2\n",
    "\n",
    "\n",
    "a = {'apple': 6, 'banana': 2, 'hello': 5, 'world': 4}\n",
    "print(apply_fun_on_dict(a, fn))"
   ]
  },
  {
   "cell_type": "markdown",
   "metadata": {},
   "source": [
    "### Task 3 - author and attempt peerwise questions\n",
    "\n",
    "You may find this a little harder this week - consider authoring a question about tracing or understanding code, or identifying base case/recursive case"
   ]
  },
  {
   "cell_type": "code",
   "execution_count": null,
   "metadata": {},
   "outputs": [],
   "source": []
  }
 ],
 "metadata": {
  "kernelspec": {
   "display_name": "Python 3",
   "language": "python",
   "name": "python3"
  },
  "language_info": {
   "codemirror_mode": {
    "name": "ipython",
    "version": 3
   },
   "file_extension": ".py",
   "mimetype": "text/x-python",
   "name": "python",
   "nbconvert_exporter": "python",
   "pygments_lexer": "ipython3",
   "version": "3.8.5"
  }
 },
 "nbformat": 4,
 "nbformat_minor": 4
}
